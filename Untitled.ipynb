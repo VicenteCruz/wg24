{
 "cells": [
  {
   "cell_type": "code",
   "execution_count": 9,
   "id": "6b595fd3-fdae-4266-a4ec-5653a0ae4575",
   "metadata": {},
   "outputs": [],
   "source": [
    "import requests\n",
    "import csv\n",
    "\n",
    "def obter_e_guardar_stops(nome_ficheiro_saida):\n",
    "  \"\"\"\n",
    "  Obtém os dados de /stops da API da Carris Metropolitana e guarda num ficheiro CSV.\n",
    "\n",
    "  Args:\n",
    "      nome_ficheiro_saida: O nome do ficheiro de saída para os dados dos stops.\n",
    "  \"\"\"\n",
    "\n",
    "  try:\n",
    "    response = requests.get('https://api.cmet.pt/stops')\n",
    "    response.raise_for_status()  # Verifica se houve algum erro na requisição\n",
    "\n",
    "    stops = response.json()\n",
    "\n",
    "    with open(nome_ficheiro_saida, 'w', newline='', encoding='utf-8') as ficheiro_saida:\n",
    "      escritor_csv = csv.writer(ficheiro_saida)\n",
    "\n",
    "      # Escrever o cabeçalho (adaptar com base nos campos desejados)\n",
    "      escritor_csv.writerow(['stop_id', 'stop_code', 'stop_name', 'stop_lat', 'stop_lon'])\n",
    "\n",
    "      for stop in stops:\n",
    "        stop_id = stop.get('id')\n",
    "        stop_code = stop.get('name')\n",
    "        stop_name = stop.get('tts_name')\n",
    "        stop_lat = stop.get('lat')\n",
    "        stop_lon = stop.get('lon')\n",
    "\n",
    "        # Escrever os dados no ficheiro CSV\n",
    "        escritor_csv.writerow([stop_id, stop_code, stop_name, stop_lat, stop_lon])\n",
    "\n",
    "  except requests.exceptions.RequestException as e:\n",
    "    print(f'Erro ao obter dados da API: {e}')\n",
    "\n",
    "# Nome do ficheiro de saída para os dados dos stops\n",
    "nome_ficheiro_saida = 'stops_api.csv'\n",
    "\n",
    "# Obter e guardar os dados dos stops\n",
    "obter_e_guardar_stops(nome_ficheiro_saida)"
   ]
  },
  {
   "cell_type": "code",
   "execution_count": null,
   "id": "3cb34442-1a14-43e3-94d6-4e4afd61babf",
   "metadata": {},
   "outputs": [],
   "source": []
  }
 ],
 "metadata": {
  "kernelspec": {
   "display_name": "Python 3 (ipykernel)",
   "language": "python",
   "name": "python3"
  },
  "language_info": {
   "codemirror_mode": {
    "name": "ipython",
    "version": 3
   },
   "file_extension": ".py",
   "mimetype": "text/x-python",
   "name": "python",
   "nbconvert_exporter": "python",
   "pygments_lexer": "ipython3",
   "version": "3.12.4"
  }
 },
 "nbformat": 4,
 "nbformat_minor": 5
}
